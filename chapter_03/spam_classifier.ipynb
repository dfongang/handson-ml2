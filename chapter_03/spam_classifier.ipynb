{
 "cells": [
  {
   "cell_type": "markdown",
   "metadata": {},
   "source": [
    "# **Spam Classifier**"
   ]
  },
  {
   "cell_type": "markdown",
   "metadata": {},
   "source": [
    "## **Apache SpamAssasin's datasets**"
   ]
  },
  {
   "cell_type": "markdown",
   "metadata": {},
   "source": [
    "Fetch the data"
   ]
  },
  {
   "cell_type": "code",
   "execution_count": 4,
   "metadata": {},
   "outputs": [],
   "source": [
    "import os\n",
    "import tarfile\n",
    "from urllib.request import urlretrieve\n",
    "\n",
    "download_root = \"https://spamassassin.apache.org/old/publiccorpus/\"\n",
    "\n",
    "ham_url = download_root + \"20030228_easy_ham.tar.bz2\"\n",
    "spam_url = download_root + \"20030228_spam.tar.bz2\"\n",
    "\n",
    "data_path = os.path.join(\"datasets\", \"spam\")\n",
    "ham_path = os.path.join(data_path, 'ham.tar.bz2')\n",
    "spam_path = os.path.join(data_path, 'spam.tar.bz2')\n",
    "\n",
    "data_url_path = dict(zip([ham_url, spam_url], [ham_path, spam_path]))\n",
    "\n",
    "def fetch_spam_data(data_url_path=data_url_path, data_path=data_path):\n",
    "    os.makedirs(data_path, exist_ok=True)\n",
    "    for url, path in data_url_path.items():\n",
    "        urlretrieve(url, path)\n",
    "        with tarfile.open(path, 'r:bz2') as tar:\n",
    "            tar.extractall(path=data_path)"
   ]
  },
  {
   "cell_type": "code",
   "execution_count": 5,
   "metadata": {},
   "outputs": [],
   "source": [
    "fetch_spam_data()"
   ]
  },
  {
   "cell_type": "code",
   "execution_count": null,
   "metadata": {},
   "outputs": [],
   "source": []
  }
 ],
 "metadata": {
  "kernelspec": {
   "display_name": ".venv",
   "language": "python",
   "name": "python3"
  },
  "language_info": {
   "codemirror_mode": {
    "name": "ipython",
    "version": 3
   },
   "file_extension": ".py",
   "mimetype": "text/x-python",
   "name": "python",
   "nbconvert_exporter": "python",
   "pygments_lexer": "ipython3",
   "version": "3.10.12"
  }
 },
 "nbformat": 4,
 "nbformat_minor": 2
}
